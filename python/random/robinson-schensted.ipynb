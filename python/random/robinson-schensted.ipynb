{
 "cells": [
  {
   "cell_type": "code",
   "execution_count": 2,
   "metadata": {},
   "outputs": [],
   "source": [
    "import numpy as np\n",
    "import numpy.random as ra"
   ]
  },
  {
   "cell_type": "code",
   "execution_count": 8,
   "metadata": {},
   "outputs": [],
   "source": [
    "def insert(n, row):\n",
    "    if len(row) == 0 or n > max(row):\n",
    "        return (row+[n], -1)\n",
    "    else:\n",
    "        for i, m in enumerate(row):\n",
    "            if m > n:\n",
    "                row[i] = n\n",
    "                return (row, m)\n",
    "\n",
    "def robinsonschensted(p):\n",
    "    tableau = [[]]\n",
    "    for n in p:\n",
    "        r = -1\n",
    "        m = n\n",
    "        while m > -1:\n",
    "            r += 1\n",
    "            if len(tableau) <= r:\n",
    "                tableau = tableau + [[]]\n",
    "            row, m = insert(m, tableau[r])\n",
    "            tableau[r] = row\n",
    "    return tableau\n",
    "\n",
    "def ydiagram(p):\n",
    "    rs = robinsonschensted(p)\n",
    "    return [len(x) for x in rs]\n",
    "\n",
    "def L(p):\n",
    "    rs = robinsonschensted(p)\n",
    "    return len(rs[0])"
   ]
  },
  {
   "cell_type": "code",
   "execution_count": 10,
   "metadata": {},
   "outputs": [
    {
     "name": "stdout",
     "output_type": "stream",
     "text": [
      "[586960 736608 141499 ... 392079 880242 776367]\n",
      "1971\n"
     ]
    }
   ],
   "source": [
    "x = ra.permutation(1000000)\n",
    "print(x)\n",
    "print(L(x))"
   ]
  }
 ],
 "metadata": {
  "kernelspec": {
   "display_name": "Python 3",
   "language": "python",
   "name": "python3"
  },
  "language_info": {
   "codemirror_mode": {
    "name": "ipython",
    "version": 3
   },
   "file_extension": ".py",
   "mimetype": "text/x-python",
   "name": "python",
   "nbconvert_exporter": "python",
   "pygments_lexer": "ipython3",
   "version": "3.11.4"
  },
  "orig_nbformat": 4
 },
 "nbformat": 4,
 "nbformat_minor": 2
}
