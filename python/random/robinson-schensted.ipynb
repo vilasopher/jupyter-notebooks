{
 "cells": [
  {
   "cell_type": "code",
   "execution_count": 21,
   "metadata": {},
   "outputs": [],
   "source": [
    "import numpy as np\n",
    "import numpy.random as ra"
   ]
  },
  {
   "cell_type": "code",
   "execution_count": 22,
   "metadata": {},
   "outputs": [],
   "source": [
    "def insert(n, row):\n",
    "    if len(row) == 0 or n > max(row):\n",
    "        return (row+[n], -1)\n",
    "    else:\n",
    "        for i, m in enumerate(row):\n",
    "            if m > n:\n",
    "                row[i] = n\n",
    "                return (row, m)\n",
    "\n",
    "def robinsonschensted(p):\n",
    "    tableau = [[]]\n",
    "    for n in p:\n",
    "        r = -1\n",
    "        m = n\n",
    "        while m > -1:\n",
    "            r += 1\n",
    "            if len(tableau) <= r:\n",
    "                tableau = tableau + [[]]\n",
    "            row, m = insert(m, tableau[r])\n",
    "            tableau[r] = row\n",
    "    return tableau\n",
    "\n",
    "def ydiagram(p):\n",
    "    rs = robinsonschensted(p)\n",
    "    return [len(x) for x in rs]"
   ]
  },
  {
   "cell_type": "code",
   "execution_count": 25,
   "metadata": {},
   "outputs": [
    {
     "name": "stdout",
     "output_type": "stream",
     "text": [
      "[193, 185, 177, 174, 171, 167, 162, 161, 157, 153, 150, 146, 141, 140, 136, 135, 132, 129, 128, 126, 124, 124, 121, 118, 115, 115, 112, 111, 110, 108, 106, 105, 103, 103, 100, 98, 97, 97, 94, 91, 90, 87, 87, 87, 87, 85, 85, 81, 80, 79, 79, 76, 76, 75, 74, 73, 72, 71, 69, 68, 68, 65, 64, 64, 63, 63, 62, 61, 61, 59, 57, 57, 54, 54, 54, 53, 50, 50, 49, 49, 48, 47, 45, 45, 45, 43, 42, 41, 41, 41, 41, 40, 40, 40, 39, 38, 38, 37, 37, 35, 34, 33, 33, 32, 31, 31, 30, 30, 30, 29, 28, 28, 27, 27, 26, 26, 24, 23, 23, 22, 22, 21, 21, 21, 20, 19, 19, 19, 17, 17, 17, 17, 16, 16, 16, 15, 15, 15, 14, 14, 13, 12, 12, 12, 12, 11, 10, 10, 10, 10, 10, 9, 9, 9, 8, 8, 8, 8, 7, 7, 7, 6, 6, 6, 6, 5, 5, 5, 5, 4, 4, 4, 4, 4, 4, 3, 3, 3, 3, 2, 2, 2, 2, 2, 2, 2, 2, 2, 2, 2, 1, 1]\n"
     ]
    }
   ],
   "source": [
    "print(ydiagram(ra.permutation(10000)))"
   ]
  }
 ],
 "metadata": {
  "kernelspec": {
   "display_name": "Python 3",
   "language": "python",
   "name": "python3"
  },
  "language_info": {
   "codemirror_mode": {
    "name": "ipython",
    "version": 3
   },
   "file_extension": ".py",
   "mimetype": "text/x-python",
   "name": "python",
   "nbconvert_exporter": "python",
   "pygments_lexer": "ipython3",
   "version": "3.11.2"
  },
  "orig_nbformat": 4
 },
 "nbformat": 4,
 "nbformat_minor": 2
}
