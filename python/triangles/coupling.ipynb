{
 "cells": [
  {
   "cell_type": "code",
   "execution_count": 37,
   "id": "be200140-098e-4f32-931e-b35a61ee96cd",
   "metadata": {},
   "outputs": [],
   "source": [
    "import networkx as nx\n",
    "import numpy as np\n",
    "import numpy.random as npr\n",
    "from tqdm import tqdm\n",
    "import matplotlib.pyplot as plt"
   ]
  },
  {
   "cell_type": "code",
   "execution_count": 131,
   "id": "f34cc4f7-53f6-45a0-af53-3b3ef6c690fb",
   "metadata": {},
   "outputs": [],
   "source": [
    "rng = npr.default_rng(1)\n",
    "n = 100\n",
    "\n",
    "r = 0.5\n",
    "lb = n * (n - 1) * (n - 2) * r * r * r / 6\n",
    "\n",
    "p = 0.2\n",
    "\n",
    "def step(state, U, x, y):\n",
    "    G = state['G']\n",
    "    cnt = state['cnt']\n",
    "    edges = state['e']\n",
    "\n",
    "    if not G.has_edge(x, y):\n",
    "        if U <= p:\n",
    "            G.add_edge(x, y)\n",
    "            cnt += len(list(nx.common_neighbors(G, x, y)))\n",
    "            edges += 1\n",
    "    else:\n",
    "        delta = len(list(nx.common_neighbors(G, x, y)))\n",
    "        if cnt - delta >= lb:\n",
    "            if U > p:\n",
    "                G.remove_edge(x, y)\n",
    "                cnt -= delta\n",
    "                edges -= 1\n",
    "                \n",
    "    state['cnt'] = cnt\n",
    "    state['e'] = edges\n",
    "\n",
    "def joint_step(G1, G2):\n",
    "    u = rng.integers(n)\n",
    "    v = rng.integers(n)\n",
    "    while v == u:\n",
    "        v = rng.integers(n)\n",
    "\n",
    "    unif = rng.uniform()\n",
    "\n",
    "    before = int(G1['G'].has_edge(u, v) ^ G2['G'].has_edge(u, v))\n",
    "    \n",
    "    step(G1, unif, u, v)\n",
    "    step(G2, unif, u, v)\n",
    "\n",
    "    after = int(G1['G'].has_edge(u, v) ^ G2['G'].has_edge(u, v))\n",
    "\n",
    "    return after - before\n",
    "\n",
    "def clique(xs):\n",
    "    G = nx.empty_graph(n)\n",
    "    for i in xs:\n",
    "        for j in xs:\n",
    "            if i < j:\n",
    "                G.add_edge(i, j)\n",
    "\n",
    "    m = len(xs)\n",
    "    \n",
    "    return { \"G\": G, \"cnt\": m * (m - 1) * (m - 2) / 6, \"e\": m * (m - 1) / 2 }"
   ]
  },
  {
   "cell_type": "code",
   "execution_count": 141,
   "id": "492a0379-bda6-4710-bc0a-a74964ac4f1a",
   "metadata": {},
   "outputs": [
    {
     "name": "stdout",
     "output_type": "stream",
     "text": [
      "51\n"
     ]
    }
   ],
   "source": [
    "k = 0\n",
    "while k * (k - 1) * (k - 2) / 6 < lb:\n",
    "    k += 1\n",
    "print(k)\n",
    "st1 = clique(rng.choice(range(n), k, replace=False))\n",
    "st2 = clique(rng.choice(range(n), k, replace=False))"
   ]
  },
  {
   "cell_type": "code",
   "execution_count": 142,
   "id": "8cc657cb-1f87-41e7-ab59-6f826afa0524",
   "metadata": {},
   "outputs": [
    {
     "name": "stderr",
     "output_type": "stream",
     "text": [
      "100%|█████████████████████████████████████████████████████████████████████████████████████████████████| 1000000/1000000 [00:49<00:00, 20405.50it/s]\n"
     ]
    }
   ],
   "source": [
    "answers = [sum([st1['G'].has_edge(u, v) ^ st2['G'].has_edge(u, v) for u in range(n) for v in range(u)])]\n",
    "ne = lambda e : np.log(2 * e / (n * n)) / np.log(r)\n",
    "edgec = [ne(st1['e'])]\n",
    "for _ in tqdm(range(1000000)):\n",
    "    delta = joint_step(st1, st2)\n",
    "    answers.append(answers[-1] + delta)\n",
    "    edgec.append(ne(st1['e']))"
   ]
  },
  {
   "cell_type": "code",
   "execution_count": 152,
   "id": "d5392753-11db-44f9-9843-1d0081e44f3a",
   "metadata": {},
   "outputs": [
    {
     "data": {
      "text/plain": [
       "[<matplotlib.lines.Line2D at 0x7f9c7ea77ed0>]"
      ]
     },
     "execution_count": 152,
     "metadata": {},
     "output_type": "execute_result"
    },
    {
     "data": {
      "image/png": "[encoded data removed]",
      "text/plain": [
       "<Figure size 640x480 with 1 Axes>"
      ]
     },
     "metadata": {},
     "output_type": "display_data"
    }
   ],
   "source": [
    "plt.loglog(answers[100000:])"
   ]
  },
  {
   "cell_type": "code",
   "execution_count": 111,
   "id": "8fb2685c-29f6-492f-8c85-e6344a7356cc",
   "metadata": {},
   "outputs": [
    {
     "data": {
      "text/plain": [
       "52"
      ]
     },
     "execution_count": 111,
     "metadata": {},
     "output_type": "execute_result"
    }
   ],
   "source": [
    "r "
   ]
  },
  {
   "cell_type": "code",
   "execution_count": null,
   "id": "95eab898-6752-4676-87a8-2202596a5b7a",
   "metadata": {},
   "outputs": [],
   "source": []
  }
 ],
 "metadata": {
  "kernelspec": {
   "display_name": "Python 3 (ipykernel)",
   "language": "python",
   "name": "python3"
  },
  "language_info": {
   "codemirror_mode": {
    "name": "ipython",
    "version": 3
   },
   "file_extension": ".py",
   "mimetype": "text/x-python",
   "name": "python",
   "nbconvert_exporter": "python",
   "pygments_lexer": "ipython3",
   "version": "3.11.8"
  }
 },
 "nbformat": 4,
 "nbformat_minor": 5
}
