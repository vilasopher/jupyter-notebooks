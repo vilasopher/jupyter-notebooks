{
 "cells": [
  {
   "cell_type": "code",
   "execution_count": 1,
   "metadata": {},
   "outputs": [],
   "source": [
    "import numpy as np\n",
    "import matplotlib.pyplot as plt\n",
    "from tqdm import tqdm"
   ]
  },
  {
   "cell_type": "code",
   "execution_count": 2,
   "metadata": {},
   "outputs": [],
   "source": [
    "N = 64\n",
    "spins = np.random.choice([-1, 1], (N,N))\n",
    "\n",
    "def safe_spins(i,j):\n",
    "    return spins[i,j] if 0 <= i < N and 0 <= j < N else 0\n",
    "\n",
    "L = [(1,0), (-1,0), (0,1), (0,-1)]\n",
    "\n",
    "def H(i,j,sigma):\n",
    "    return sigma * sum(safe_spins(i+l[0],j+l[1]) for l in L)\n",
    "\n",
    "def update(i,j,beta):\n",
    "    w = np.array([np.exp(beta*H(i,j,1)), np.exp(beta*H(i,j,-1))])\n",
    "    p = w / sum(w)\n",
    "    return np.random.choice([1,-1], p=p)\n",
    "\n",
    "def update_all(beta, alpha):\n",
    "    mask = np.random.choice([0,1], p=[1-alpha,alpha], size=(N,N))\n",
    "    new_spins = np.array([[update(i,j,beta) for j in range(N)] for i in range(N)])\n",
    "    return new_spins * mask + spins * (1-mask)\n",
    "\n",
    "bc = np.log(1+np.sqrt(2)) / 2\n",
    "\n",
    "def beta_smooth(x):\n",
    "    return bc * min(x+1, 3**3 * (x-1/3)**3 + 1)"
   ]
  },
  {
   "cell_type": "code",
   "execution_count": 3,
   "metadata": {},
   "outputs": [
    {
     "name": "stderr",
     "output_type": "stream",
     "text": [
      "100%|██████████| 1200/1200 [24:01<00:00,  1.20s/it]\n"
     ]
    }
   ],
   "source": [
    "for i in tqdm(range(1200)):\n",
    "    beta = beta_smooth(i / 1200)\n",
    "\n",
    "    for _ in range(25):\n",
    "        spins = update_all(beta, 0.1)\n",
    "\n",
    "    fig, (sp, b) = plt.subplots(1,2, figsize=(10,6))\n",
    "    sp.axes.get_xaxis().set_visible(False)\n",
    "    sp.axes.get_yaxis().set_visible(False)\n",
    "    b.axes.get_xaxis().set_visible(False)\n",
    "    b.axes.get_yaxis().set_visible(False)\n",
    "\n",
    "    sp.matshow(spins,cmap='summer')\n",
    "\n",
    "    b.set_aspect(5)\n",
    "    b.axis('off')  # Turn off the axis\n",
    "    b.set_xlim(-1,1)  # Set x limits to make the vertical line visible\n",
    "    b.set_ylim(-0.01,2*bc + 0.01)\n",
    "\n",
    "    b.axvline(x=0, color='black')  # Vertical line at x=0\n",
    "    b.scatter(0, beta, zorder=3, color='red')  # Example point at y=10\n",
    "    b.scatter(0, bc, zorder=2, color='black', marker='x')\n",
    "\n",
    "    b.text(0.1, 0, 'low', verticalalignment='center')\n",
    "    b.text(0.1, 2*bc, 'high', verticalalignment='center')\n",
    "    b.text(0.1, bc, 'critical', verticalalignment='center')\n",
    "    b.text(-0.15, beta, r'$\\beta$', verticalalignment='center')\n",
    "\n",
    "\n",
    "    plt.tight_layout()\n",
    "    fig.subplots_adjust(wspace=-0.3)\n",
    "\n",
    "    plt.savefig(f'images/{N}/{i:06d}.png', bbox_inches='tight')\n",
    "    plt.close('all')"
   ]
  }
 ],
 "metadata": {
  "kernelspec": {
   "display_name": "Python 3",
   "language": "python",
   "name": "python3"
  },
  "language_info": {
   "codemirror_mode": {
    "name": "ipython",
    "version": 3
   },
   "file_extension": ".py",
   "mimetype": "text/x-python",
   "name": "python",
   "nbconvert_exporter": "python",
   "pygments_lexer": "ipython3",
   "version": "3.12.4"
  }
 },
 "nbformat": 4,
 "nbformat_minor": 2
}
