{
 "cells": [
  {
   "cell_type": "code",
   "execution_count": 76,
   "metadata": {},
   "outputs": [],
   "source": [
    "import numpy as np\n",
    "import numpy.random as ra\n",
    "import matplotlib.pyplot as plt\n",
    "from tqdm import tqdm"
   ]
  },
  {
   "cell_type": "code",
   "execution_count": 80,
   "metadata": {},
   "outputs": [
    {
     "name": "stderr",
     "output_type": "stream",
     "text": [
      "100%|██████████| 629/629 [01:16<00:00,  8.20it/s]\n"
     ]
    }
   ],
   "source": [
    "N = 20\n",
    "data1 = ra.multivariate_normal(np.zeros(2),np.identity(2), size=N)\n",
    "data2 = ra.multivariate_normal(np.zeros(2),np.identity(2), size=N)\n",
    "\n",
    "x1ord = sorted([(x,j) for (j,x) in enumerate(data1[:,0])])\n",
    "y1ord = sorted([(x,j) for (j,x) in enumerate(data1[:,1])])\n",
    "x2ord = sorted([(x,j) for (j,x) in enumerate(data2[:,0])])\n",
    "y2ord = sorted([(x,j) for (j,x) in enumerate(data2[:,1])])\n",
    "\n",
    "xcoupling = [(x1ord[i][1],x2ord[i][1]) for i in range(N)]\n",
    "ycoupling = [(y1ord[i][1],y2ord[i][1]) for i in range(N)]\n",
    "\n",
    "def thetacoupling(theta):\n",
    "    c = np.array([np.cos(theta), np.sin(theta)])\n",
    "\n",
    "    data1c = data1 @ c\n",
    "    data2c = data2 @ c\n",
    "\n",
    "    ord1c = sorted([(x,j) for (j,x) in enumerate(data1c)])\n",
    "    ord2c = sorted([(x,j) for (j,x) in enumerate(data2c)])\n",
    "\n",
    "    return [(ord1c[i][1],ord2c[i][1]) for i in range(N)]\n",
    "\n",
    "for (j,theta) in tqdm(list(enumerate(np.arange(0, 2*np.pi, 0.01)))):\n",
    "    fig, ax = plt.subplots()\n",
    "    ax.set(xlim=[-3,3],ylim=[-3,3],aspect='equal')\n",
    "    for i in range(N):\n",
    "        tc1 = thetacoupling(theta)\n",
    "        tc2 = thetacoupling(theta + np.pi/2)\n",
    "        plt.plot([data1[tc1[i][0],0], data2[tc1[i][1],0]], [data1[tc1[i][0],1], data2[tc1[i][1],1]], color='blue')\n",
    "        plt.plot([data1[tc2[i][0],0], data2[tc2[i][1],0]], [data1[tc2[i][0],1], data2[tc2[i][1],1]], color='green')\n",
    "        plt.scatter(data1[:,0],data1[:,1], color='black')\n",
    "        plt.scatter(data2[:,0],data2[:,1], color='red')\n",
    "    plt.savefig(f'images/{j:3d}.png')\n",
    "    plt.close()"
   ]
  }
 ],
 "metadata": {
  "kernelspec": {
   "display_name": "Python 3",
   "language": "python",
   "name": "python3"
  },
  "language_info": {
   "codemirror_mode": {
    "name": "ipython",
    "version": 3
   },
   "file_extension": ".py",
   "mimetype": "text/x-python",
   "name": "python",
   "nbconvert_exporter": "python",
   "pygments_lexer": "ipython3",
   "version": "3.12.4"
  }
 },
 "nbformat": 4,
 "nbformat_minor": 2
}
