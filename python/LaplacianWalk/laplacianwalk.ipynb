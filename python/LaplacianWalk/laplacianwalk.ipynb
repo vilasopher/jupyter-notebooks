{
 "cells": [
  {
   "cell_type": "code",
   "execution_count": 1,
   "metadata": {},
   "outputs": [],
   "source": [
    "import numpy as np\n",
    "from scipy.signal import convolve\n",
    "import math as ma\n",
    "import matplotlib.pyplot as plt\n",
    "from tqdm import tqdm"
   ]
  },
  {
   "cell_type": "code",
   "execution_count": 2,
   "metadata": {},
   "outputs": [],
   "source": [
    "global Nr, Nc, grid, boundarymask, exitmask, snakemask, snakepos, laplacian, dirs\n",
    "\n",
    "Nr = 550\n",
    "Nc = ma.ceil(Nr*8.5/11)\n",
    "\n",
    "grid = np.zeros((Nr,Nc), dtype=np.float64)\n",
    "\n",
    "boundarymask = np.array([[0 if r == 0 or r == Nr-1 or c == 0 or c == Nc-1 else 1 for c in range(Nc)] for r in range(Nr)], dtype=np.float64)\n",
    "exitmask = np.array([[1 if r == Nr//2 and c == Nc-1 else 0 for c in range(Nc)] for r in range(Nr)], dtype=np.float64)\n",
    "snakemask = np.array([[0 if r == Nr//2 and c <= 1 else 1 for c in range(Nc)] for r in range(Nr)], dtype=np.float64)\n",
    "snakepos = [np.array([Nr//2,0]),np.array([Nr//2,1])]\n",
    "\n",
    "laplacian = 0.25*np.array([[0,1,0],[1,0,1],[0,1,0]], dtype=np.float64)\n",
    "\n",
    "dirs = np.array([[1,0],[0,1],[-1,0],[0,-1]])"
   ]
  },
  {
   "cell_type": "code",
   "execution_count": 3,
   "metadata": {},
   "outputs": [],
   "source": [
    "def averaging_step(grid):\n",
    "    grid = convolve(grid,laplacian,mode='same')\n",
    "    grid = np.maximum(np.minimum(np.minimum(grid,boundarymask), snakemask),exitmask)\n",
    "    return grid\n",
    "\n",
    "def calculate_harmonic_function(grid, num_iterations=Nr*Nc):\n",
    "    for _ in range(num_iterations):\n",
    "        grid = averaging_step(grid)\n",
    "    return grid\n",
    "\n",
    "def walk_snake(grid):\n",
    "    weights = np.array([grid[*(snakepos[-1] + x)] for x in dirs])\n",
    "    weights = weights / np.sum(weights)\n",
    "    dir = dirs[np.random.choice(len(dirs), p=weights)]\n",
    "    snakepos.append(snakepos[-1] + dir)\n",
    "    snakemask[*snakepos[-1]] = 0\n",
    "    grid = np.maximum(np.minimum(np.minimum(grid,boundarymask),snakemask),exitmask)\n",
    "    return grid, snakepos"
   ]
  },
  {
   "cell_type": "code",
   "execution_count": null,
   "metadata": {},
   "outputs": [],
   "source": [
    "for i in tqdm(range(1001)):\n",
    "    if (snakepos[-1] != np.array([Nr//2,Nc-1])).any():\n",
    "        grid = calculate_harmonic_function(grid)\n",
    "        grid, snakepos = walk_snake(grid)\n",
    "    \n",
    "    if i % 10 == 0:\n",
    "        plt.close()\n",
    "        plt.matshow(grid, cmap='gist_gray')\n",
    "        plt.matshow(snakemask, cmap='binary')"
   ]
  }
 ],
 "metadata": {
  "kernelspec": {
   "display_name": "Python 3",
   "language": "python",
   "name": "python3"
  },
  "language_info": {
   "codemirror_mode": {
    "name": "ipython",
    "version": 3
   },
   "file_extension": ".py",
   "mimetype": "text/x-python",
   "name": "python",
   "nbconvert_exporter": "python",
   "pygments_lexer": "ipython3",
   "version": "3.12.4"
  }
 },
 "nbformat": 4,
 "nbformat_minor": 2
}
