{
 "cells": [
  {
   "cell_type": "code",
   "execution_count": 1,
   "metadata": {},
   "outputs": [],
   "source": [
    "import numpy as np\n",
    "import numpy.random as ra\n",
    "from tqdm import tqdm\n",
    "import matplotlib.pyplot as plt"
   ]
  },
  {
   "cell_type": "code",
   "execution_count": 2,
   "metadata": {},
   "outputs": [],
   "source": [
    "N = 512\n",
    "theta = ra.uniform(0,2*np.pi,size=(N,N))\n",
    "\n",
    "def ZeroBC(i,j):\n",
    "    if i >= 0 and i < N and j >= 0 and j < N:\n",
    "        return theta[i,j]\n",
    "    else:\n",
    "        return 0\n",
    "\n",
    "adjacency = [(0,1),(0,-1),(1,0),(-1,0)]\n",
    "\n",
    "def Hloc(i,j,proptheta=None):\n",
    "    if proptheta is None:\n",
    "        proptheta = ZeroBC(i,j)\n",
    "    return - sum([np.cos(proptheta - ZeroBC(i+a,j+b)) for (a,b) in adjacency])\n",
    "\n",
    "def MetropolisUpdate(i,j,beta=1.1343):\n",
    "    proptheta = ra.uniform(0,2*np.pi)\n",
    "    if ra.uniform(0,1) < np.exp(- beta * (Hloc(i,j,proptheta) - Hloc(i,j))):\n",
    "        theta[i,j] = proptheta"
   ]
  },
  {
   "cell_type": "code",
   "execution_count": 19,
   "metadata": {},
   "outputs": [],
   "source": [
    "for frame in tqdm(range(3000)):\n",
    "    to_update = ra.uniform(0,1,size=(N,N)) < 0.05\n",
    "    for i in range(N):\n",
    "        for j in range(N):\n",
    "            if to_update[i,j]:\n",
    "                MetropolisUpdate(i,j)\n",
    "    np.save(f'data/{frame:06d}.npy',theta)"
   ]
  },
  {
   "cell_type": "code",
   "execution_count": 3,
   "metadata": {},
   "outputs": [],
   "source": [
    "thetas = [np.load(f'data/{i:06d}.npy').reshape((N,N)) for i in range(3000)]"
   ]
  },
  {
   "cell_type": "code",
   "execution_count": 4,
   "metadata": {},
   "outputs": [
    {
     "name": "stderr",
     "output_type": "stream",
     "text": [
      "100%|██████████| 3000/3000 [04:55<00:00, 10.15it/s]\n"
     ]
    }
   ],
   "source": [
    "for frame in tqdm(range(3000)):\n",
    "    plt.matshow(thetas[frame], vmin=0, vmax=2*np.pi, cmap='hsv')\n",
    "    plt.axis('off')\n",
    "    plt.savefig(f'images/{frame:06d}.png', bbox_inches='tight')\n",
    "    plt.close('all')"
   ]
  },
  {
   "cell_type": "code",
   "execution_count": null,
   "metadata": {},
   "outputs": [],
   "source": []
  }
 ],
 "metadata": {
  "kernelspec": {
   "display_name": "Python 3",
   "language": "python",
   "name": "python3"
  },
  "language_info": {
   "codemirror_mode": {
    "name": "ipython",
    "version": 3
   },
   "file_extension": ".py",
   "mimetype": "text/x-python",
   "name": "python",
   "nbconvert_exporter": "python",
   "pygments_lexer": "ipython3",
   "version": "3.12.3"
  }
 },
 "nbformat": 4,
 "nbformat_minor": 2
}
