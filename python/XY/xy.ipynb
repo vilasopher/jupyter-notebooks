{
 "cells": [
  {
   "cell_type": "code",
   "execution_count": null,
   "metadata": {},
   "outputs": [],
   "source": [
    "# import statements\n",
    "\n",
    "import numpy as np\n",
    "import numpy.random as ra\n",
    "from tqdm import tqdm\n",
    "import matplotlib.pyplot as plt"
   ]
  },
  {
   "cell_type": "code",
   "execution_count": null,
   "metadata": {},
   "outputs": [],
   "source": [
    "# Set N = side-length, F = number of frames, I = iterations per frame, L = last completed frame, and S = update density\n",
    "N = 512\n",
    "F = 3000\n",
    "I = 100\n",
    "L = 150\n",
    "S = 0.05"
   ]
  },
  {
   "cell_type": "code",
   "execution_count": null,
   "metadata": {},
   "outputs": [],
   "source": [
    "# Define auxiliary functions (fast)\n",
    "\n",
    "theta = None\n",
    "\n",
    "def ZeroBC(i,j):\n",
    "    if i >= 0 and i < N and j >= 0 and j < N:\n",
    "        return theta[i,j]\n",
    "    else:\n",
    "        return 0\n",
    "\n",
    "adjacency = [(0,1),(0,-1),(1,0),(-1,0)]\n",
    "\n",
    "def Hloc(i,j,proptheta=None):\n",
    "    if proptheta is None:\n",
    "        proptheta = ZeroBC(i,j)\n",
    "    return - sum([np.cos(proptheta - ZeroBC(i+a,j+b)) for (a,b) in adjacency])\n",
    "\n",
    "def MetropolisUpdate(i,j,beta=1.1343):\n",
    "    proptheta = ra.uniform(0,2*np.pi)\n",
    "    if ra.uniform(0,1) < np.exp(- beta * (Hloc(i,j,proptheta) - Hloc(i,j))):\n",
    "        theta[i,j] = proptheta\n",
    "\n",
    "\n",
    "f = lambda x : np.sqrt(12*x)\n",
    "g = lambda x : 1.1343 + 0.01*(x-0.5)\n",
    "h = lambda x : 5-12*np.sqrt(1-x)\n",
    "i1 = lambda x : max(0,min(1,10*(x-0.1)+1))\n",
    "i2 = lambda x : max(0,min(1,10*(x-0.9)))\n",
    "\n",
    "def beta(x):\n",
    "    if x < 0.5:\n",
    "        return f(x) * (1-i1(x)) + g(x) * i1(x)\n",
    "    else:\n",
    "        return g(x) * (1-i2(x)) + h(x) * i2(x)"
   ]
  },
  {
   "cell_type": "code",
   "execution_count": null,
   "metadata": {},
   "outputs": [],
   "source": [
    "# Run simulation (slow)\n",
    "\n",
    "if L > -1:\n",
    "    theta = np.load(f'data/{L:06d}.npy').reshape((N,N))\n",
    "else:\n",
    "    theta = ra.uniform(0,2*np.pi,size=(N,N))\n",
    "\n",
    "for frame in tqdm(range(F)):\n",
    "    for _ in range(I):\n",
    "        to_update = ra.uniform(0,1,size=(N,N)) < 0.05\n",
    "        for i in range(N):\n",
    "            for j in range(N):\n",
    "                if to_update[i,j]:\n",
    "                    MetropolisUpdate(i,j,beta=beta(frame/F))\n",
    "    np.save(f'data/{frame:06d}.npy',theta)"
   ]
  },
  {
   "cell_type": "code",
   "execution_count": null,
   "metadata": {},
   "outputs": [],
   "source": [
    "# Generate images for video (slow)\n",
    "\n",
    "thetas = [np.load(f'data/{i:06d}.npy').reshape((N,N)) for i in range(3000)]\n",
    "\n",
    "for frame in tqdm(range(3000)):\n",
    "    plt.imsave(f'images/{frame:06d}.png', thetas[frame], format='png', cmap='hsv', vmin=0, vmax=2*np.pi)"
   ]
  }
 ],
 "metadata": {
  "kernelspec": {
   "display_name": "Python 3",
   "language": "python",
   "name": "python3"
  },
  "language_info": {
   "codemirror_mode": {
    "name": "ipython",
    "version": 3
   },
   "file_extension": ".py",
   "mimetype": "text/x-python",
   "name": "python",
   "nbconvert_exporter": "python",
   "pygments_lexer": "ipython3",
   "version": "3.12.3"
  }
 },
 "nbformat": 4,
 "nbformat_minor": 2
}
