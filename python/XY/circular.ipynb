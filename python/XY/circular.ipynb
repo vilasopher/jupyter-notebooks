{
 "cells": [
  {
   "cell_type": "code",
   "execution_count": 2,
   "metadata": {},
   "outputs": [],
   "source": [
    "# import statements\n",
    "\n",
    "import numpy as np\n",
    "import numpy.random as ra\n",
    "from tqdm import tqdm\n",
    "import matplotlib.pyplot as plt\n",
    "from matplotlib.colors import LinearSegmentedColormap\n",
    "from PIL import Image\n",
    "import colorcet as cc"
   ]
  },
  {
   "cell_type": "code",
   "execution_count": 20,
   "metadata": {},
   "outputs": [],
   "source": [
    "# Set N = side-length, F = number of frames, I = iterations per frame, L = last completed frame, and S = update density\n",
    "N = 512\n",
    "F = 500\n",
    "I = 200\n",
    "L = -1\n",
    "S = 0.05"
   ]
  },
  {
   "cell_type": "code",
   "execution_count": 39,
   "metadata": {},
   "outputs": [],
   "source": [
    "# Define auxiliary functions (fast)\n",
    "\n",
    "theta = None\n",
    "\n",
    "def InsideCircle(i,j):\n",
    "    return (i+0.5-0.5*N)**2 + (j+0.5-0.5*N)**2 <= (0.5*N - 16)**2\n",
    "\n",
    "def CircleBC(i,j):\n",
    "    if InsideCircle(i,j):\n",
    "        return theta[i,j]\n",
    "    else:\n",
    "        return np.arctan2(i+0.5-0.5*N, j+0.5-0.5*N)\n",
    "\n",
    "adjacency = [(0,1),(0,-1),(1,0),(-1,0)]\n",
    "\n",
    "def Hloc(i,j,proptheta=None):\n",
    "    if proptheta is None:\n",
    "        proptheta = CircleBC(i,j)\n",
    "    return - sum([np.cos(proptheta - CircleBC(i+a,j+b)) for (a,b) in adjacency])\n",
    "\n",
    "def MetropolisUpdate(i,j,beta=1.1343):\n",
    "    proptheta = ra.uniform(-np.pi,np.pi)\n",
    "    if ra.uniform(0,1) < np.exp(- beta * (Hloc(i,j,proptheta) - Hloc(i,j))):\n",
    "        theta[i,j] = proptheta\n",
    "\n",
    "\n",
    "beta = lambda x : 1.1343 + 15 * (1+100*x**6) * (x-1/3)**3"
   ]
  },
  {
   "cell_type": "code",
   "execution_count": 19,
   "metadata": {},
   "outputs": [
    {
     "name": "stderr",
     "output_type": "stream",
     "text": [
      " 90%|█████████ | 27/30 [00:08<00:00,  3.01it/s]/var/folders/k5/czr0d7xn2w5456rcmtfxtnm80000gn/T/ipykernel_54210/1700150502.py:23: RuntimeWarning: overflow encountered in exp\n",
      "  if ra.uniform(0,1) < np.exp(- beta * (Hloc(i,j,proptheta) - Hloc(i,j))):\n",
      "100%|██████████| 30/30 [00:09<00:00,  3.00it/s]\n"
     ]
    }
   ],
   "source": [
    "# Run simulation (slow)\n",
    "\n",
    "if L > -1:\n",
    "    theta = np.load(f'hexdata/{L:06d}.npy').reshape((N,N))\n",
    "else:\n",
    "    theta = ra.uniform(-np.pi,np.pi,size=(N,N))\n",
    "    for i in range(N):\n",
    "        for j in range(N):\n",
    "            theta[i,j] = CircleBC(i,j)\n",
    "\n",
    "for frame in tqdm(range(L+1, F)):\n",
    "    b = beta(frame/F)\n",
    "\n",
    "    for _ in range(I):\n",
    "        to_update = ra.uniform(0,1,size=(N,N)) < 0.05\n",
    "\n",
    "        for i in range(N):\n",
    "            for j in range(N):\n",
    "                if InsideCircle(i,j) and to_update[i,j]:\n",
    "                    MetropolisUpdate(i,j,beta=b)\n",
    "\n",
    "    np.save(f'circledata/{frame:06d}.npy',theta)"
   ]
  },
  {
   "cell_type": "code",
   "execution_count": 21,
   "metadata": {},
   "outputs": [
    {
     "name": "stderr",
     "output_type": "stream",
     "text": [
      "100%|██████████| 500/500 [00:38<00:00, 12.87it/s]\n"
     ]
    }
   ],
   "source": [
    "# Generate images for video (slow)\n",
    "\n",
    "thetas = [np.load(f'circledata/{i:06d}.npy').reshape((N,N)) for i in range(L+1,F)]\n",
    "\n",
    "for frame in tqdm(range(L+1,F)):\n",
    "    plt.imsave(f'circleimages/{frame:06d}.png', thetas[frame-L-1], format='png', cmap=cc.m_cyclic_rygcbmr_50_90_c64, vmin=-np.pi, vmax=np.pi)"
   ]
  },
  {
   "cell_type": "code",
   "execution_count": 19,
   "metadata": {},
   "outputs": [],
   "source": [
    "# COLOR TESTING\n",
    "\n",
    "theta = np.load(f'circledata/002999.npy').reshape((N,N))\n",
    "plt.imsave(f'circleimages/colortest.png', theta, format='png', cmap=cc.m_cyclic_rygcbmr_50_90_c64, vmin=-np.pi, vmax=np.pi)"
   ]
  },
  {
   "cell_type": "code",
   "execution_count": null,
   "metadata": {},
   "outputs": [],
   "source": []
  }
 ],
 "metadata": {
  "kernelspec": {
   "display_name": "Python 3",
   "language": "python",
   "name": "python3"
  },
  "language_info": {
   "codemirror_mode": {
    "name": "ipython",
    "version": 3
   },
   "file_extension": ".py",
   "mimetype": "text/x-python",
   "name": "python",
   "nbconvert_exporter": "python",
   "pygments_lexer": "ipython3",
   "version": "3.12.3"
  }
 },
 "nbformat": 4,
 "nbformat_minor": 2
}
