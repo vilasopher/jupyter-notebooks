{
 "cells": [
  {
   "cell_type": "code",
   "execution_count": 1,
   "id": "numeric-falls",
   "metadata": {},
   "outputs": [],
   "source": [
    "import numpy as np\n",
    "import networkx as nx\n",
    "import matplotlib.pyplot as plt\n",
    "import math"
   ]
  },
  {
   "cell_type": "code",
   "execution_count": 2,
   "id": "arranged-horizon",
   "metadata": {},
   "outputs": [],
   "source": [
    "DEGREES = [3, 4]\n",
    "PROBABILITIES = [0.5, 0.5]\n",
    "\n",
    "MIN_DEG = min(DEGREES)\n",
    "MAX_DEG = max(DEGREES)\n",
    "LCM = math.lcm(*DEGREES)"
   ]
  },
  {
   "cell_type": "code",
   "execution_count": 3,
   "id": "wrapped-mainstream",
   "metadata": {
    "scrolled": true
   },
   "outputs": [],
   "source": [
    "def random_walk(n):\n",
    "    return [np.random.randint(0,LCM-1) for _ in range(n)]\n",
    "\n",
    "def height_in_constant_degree_tree(d, walk):\n",
    "    height = 0\n",
    "    \n",
    "    for step in walk:\n",
    "        if int(step * d / LCM) == 0 and height > 0:\n",
    "            height -= 1\n",
    "        else:\n",
    "            height += 1\n",
    "    \n",
    "    return height\n",
    "\n",
    "def min_height(walk):\n",
    "    return height_in_constant_degree_tree(MIN_DEG, walk)\n",
    "\n",
    "def max_height(walk):\n",
    "    return height_in_constant_degree_tree(MAX_DEG, walk)\n",
    "\n",
    "def walk_goes_higher_than(d, walk):\n",
    "    return min_height(walk) > d"
   ]
  },
  {
   "cell_type": "code",
   "execution_count": 4,
   "id": "configured-television",
   "metadata": {},
   "outputs": [],
   "source": [
    "def UGW(height, degs=DEGREES, probs=PROBABILITIES):\n",
    "    normalization = sum([ d * p for d, p in zip(degs, probs) ])\n",
    "    offspring_probs = [ d * p / normalization for d, p in zip(degs, probs) ]\n",
    "    \n",
    "    T = nx.Graph()\n",
    "    T.add_node('')\n",
    "    \n",
    "    root_deg = np.random.choice(degs, p=probs)\n",
    "    current_level = [ str(i) for i in range(root_deg) ]\n",
    "    T.add_edges_from([ ('', v) for v in current_level ])\n",
    "    \n",
    "    current_height = 1\n",
    "    while current_height <= height:\n",
    "        next_level = []\n",
    "        \n",
    "        for v in current_level:\n",
    "            v_deg = np.random.choice(degs, p=offspring_probs)\n",
    "            new_nodes = [ v + str(i) for i in range(1, v_deg)]\n",
    "            next_level.extend(new_nodes)\n",
    "            T.add_edges_from([ (v, u) for u in new_nodes ])\n",
    "        \n",
    "        current_level = next_level\n",
    "        current_height += 1\n",
    "    \n",
    "    return T"
   ]
  },
  {
   "cell_type": "code",
   "execution_count": 5,
   "id": "disabled-season",
   "metadata": {},
   "outputs": [],
   "source": [
    "def walk_in_tree(walk, tree):\n",
    "    current_node = ''\n",
    "    \n",
    "    for step in walk:\n",
    "        reduced_step = int(step * tree.degree[current_node] / LCM)\n",
    "            \n",
    "        if reduced_step == 0 and current_node != '':\n",
    "            next_node = current_node[:-1]\n",
    "        else:\n",
    "            next_node = current_node + str(reduced_step)\n",
    "        \n",
    "        current_node = next_node\n",
    "    \n",
    "    return current_node"
   ]
  },
  {
   "cell_type": "code",
   "execution_count": 6,
   "id": "multiple-favor",
   "metadata": {},
   "outputs": [],
   "source": [
    "def ball(graph, root, radius):\n",
    "    b = nx.Graph()\n",
    "    b.add_edges_from(nx.bfs_edges(graph, root, depth_limit=radius))\n",
    "    b.nodes[root]['root'] = True\n",
    "    return b\n",
    "\n",
    "def ball_node_match(n1, n2):\n",
    "    return n1 == n2"
   ]
  },
  {
   "cell_type": "code",
   "execution_count": 7,
   "id": "unauthorized-google",
   "metadata": {},
   "outputs": [],
   "source": [
    "def mappings(xs, ys):\n",
    "    if len(xs) == 0:\n",
    "        return [[]]\n",
    "    else:\n",
    "        x, *zs = xs\n",
    "        \n",
    "        smaller_mappings = mappings(zs, ys)\n",
    "        return [\n",
    "            [(x,y)] + sm\n",
    "            for y in ys\n",
    "            for sm in smaller_mappings\n",
    "        ]"
   ]
  },
  {
   "cell_type": "code",
   "execution_count": 8,
   "id": "beautiful-inspector",
   "metadata": {},
   "outputs": [],
   "source": [
    "def possible_balls(radius, degs=DEGREES):\n",
    "    if radius == 1:\n",
    "        balls = []\n",
    "        \n",
    "        for d in degs:\n",
    "            b = nx.Graph()\n",
    "            b.add_edges_from([('', str(i)) for i in range(d)])\n",
    "            b.nodes['']['root'] = True\n",
    "            balls.append(b)\n",
    "            \n",
    "        return balls\n",
    "    \n",
    "    else:\n",
    "        smaller_balls = possible_balls(radius-1, degs)\n",
    "        balls = []\n",
    "        \n",
    "        for sb in smaller_balls:\n",
    "            leaves = [node for node in sb if len(node) == radius-1]\n",
    "            \n",
    "            for m in mappings(leaves, degs):\n",
    "                b = sb.copy()\n",
    "                \n",
    "                for l, d in m:\n",
    "                    b.add_edges_from([(l, l+str(i)) for i in range(1,d)])\n",
    "                \n",
    "                if all([not nx.is_isomorphic(b, x, node_match=ball_node_match) for x in balls]):\n",
    "                    balls.append(b)\n",
    "\n",
    "        return balls"
   ]
  },
  {
   "cell_type": "code",
   "execution_count": 13,
   "id": "about-crawford",
   "metadata": {},
   "outputs": [
    {
     "data": {
      "text/plain": [
       "[array([[0., 0., 0., 0., 0., 0., 0., 0., 1.],\n",
       "        [0., 1., 0., 0., 0., 1., 1., 0., 1.],\n",
       "        [0., 0., 0., 0., 0., 0., 1., 1., 0.],\n",
       "        [0., 0., 0., 0., 0., 0., 0., 0., 0.],\n",
       "        [0., 0., 0., 0., 0., 0., 0., 1., 0.],\n",
       "        [0., 0., 0., 0., 0., 0., 0., 0., 0.],\n",
       "        [0., 0., 1., 0., 0., 0., 0., 0., 0.],\n",
       "        [0., 0., 0., 0., 0., 0., 0., 0., 0.],\n",
       "        [0., 1., 0., 0., 0., 0., 0., 0., 0.]]),\n",
       " array([[0., 0., 0., 0., 0., 0., 0., 0., 0.],\n",
       "        [0., 0., 0., 0., 0., 0., 0., 0., 1.],\n",
       "        [0., 0., 1., 0., 0., 0., 0., 0., 0.],\n",
       "        [0., 0., 0., 1., 0., 0., 0., 0., 0.],\n",
       "        [0., 0., 0., 0., 0., 0., 0., 0., 0.],\n",
       "        [1., 0., 0., 0., 0., 0., 0., 0., 0.],\n",
       "        [0., 0., 0., 0., 1., 0., 0., 1., 1.],\n",
       "        [1., 0., 1., 0., 0., 0., 0., 0., 0.],\n",
       "        [0., 0., 0., 0., 0., 0., 0., 1., 0.]]),\n",
       " array([[0., 0., 0., 0., 0., 0., 0., 0., 0.],\n",
       "        [0., 0., 0., 0., 0., 2., 1., 1., 0.],\n",
       "        [0., 0., 0., 0., 0., 0., 1., 0., 0.],\n",
       "        [0., 0., 0., 0., 0., 0., 0., 0., 0.],\n",
       "        [0., 0., 0., 0., 0., 0., 0., 0., 0.],\n",
       "        [0., 0., 0., 0., 0., 0., 0., 0., 0.],\n",
       "        [0., 0., 2., 0., 0., 0., 1., 0., 0.],\n",
       "        [0., 0., 0., 0., 0., 1., 1., 0., 0.],\n",
       "        [0., 0., 0., 0., 0., 0., 0., 0., 0.]]),\n",
       " array([[0., 0., 0., 0., 0., 0., 0., 0., 0.],\n",
       "        [0., 1., 0., 0., 0., 0., 0., 0., 0.],\n",
       "        [0., 1., 0., 0., 0., 0., 1., 1., 0.],\n",
       "        [0., 0., 0., 0., 0., 0., 0., 0., 0.],\n",
       "        [0., 0., 0., 0., 0., 0., 0., 0., 0.],\n",
       "        [0., 0., 0., 0., 0., 0., 0., 0., 0.],\n",
       "        [0., 0., 1., 0., 0., 1., 0., 0., 0.],\n",
       "        [0., 0., 2., 0., 0., 0., 2., 0., 0.],\n",
       "        [0., 0., 0., 0., 0., 0., 0., 0., 0.]]),\n",
       " array([[0., 0., 0., 0., 0., 0., 0., 0., 0.],\n",
       "        [1., 0., 0., 0., 0., 0., 0., 1., 0.],\n",
       "        [0., 1., 1., 0., 0., 0., 0., 0., 0.],\n",
       "        [0., 1., 0., 0., 0., 0., 0., 0., 0.],\n",
       "        [0., 0., 0., 0., 0., 0., 0., 0., 0.],\n",
       "        [0., 0., 0., 0., 0., 0., 0., 0., 0.],\n",
       "        [0., 0., 1., 0., 0., 0., 0., 1., 1.],\n",
       "        [0., 1., 0., 0., 0., 0., 1., 0., 0.],\n",
       "        [0., 0., 0., 0., 0., 0., 0., 0., 0.]])]"
      ]
     },
     "execution_count": 13,
     "metadata": {},
     "output_type": "execute_result"
    }
   ],
   "source": [
    "num_samples = 5\n",
    "num_subsamples = 10\n",
    "ball_radius = 2\n",
    "walk_length = 7\n",
    "\n",
    "all_balls = possible_balls(ball_radius)\n",
    "num_balls = len(all_balls)\n",
    "\n",
    "samples = []\n",
    "\n",
    "for _ in range(num_samples):\n",
    "    w = random_walk(walk_length)\n",
    "    while not walk_goes_higher_than(2 * ball_radius, w):\n",
    "        w = random_walk(walk_length)\n",
    "        \n",
    "    ugw_height = max_height(w) + ball_radius\n",
    "        \n",
    "    statistic = np.zeros((num_balls, num_balls))\n",
    "        \n",
    "    for __ in range(num_subsamples):\n",
    "        t = UGW(ugw_height)\n",
    "        \n",
    "        start = ''\n",
    "        end = walk_in_tree(w, t)\n",
    "        \n",
    "        bstart = ball(t, start, ball_radius)\n",
    "        bend = ball(t, end, ball_radius)\n",
    "        \n",
    "        for i, b1 in enumerate(all_balls):\n",
    "            if nx.is_isomorphic(bstart, b1, node_match = ball_node_match):\n",
    "                for j, b2 in enumerate(all_balls):\n",
    "                    if nx.is_isomorphic(bend, b2, node_match = ball_node_match):\n",
    "                        statistic[i,j] += 1\n",
    "                        break\n",
    "                break\n",
    "        \n",
    "    if int(statistic.sum()) != num_subsamples:\n",
    "        raise Exception(\"at least one of the sampled balls did not match!\")\n",
    "    \n",
    "    samples.append(statistic)\n",
    "\n",
    "samples"
   ]
  },
  {
   "cell_type": "code",
   "execution_count": null,
   "id": "diagnostic-exchange",
   "metadata": {},
   "outputs": [],
   "source": [
    "i = 0\n",
    "for x in possible_balls([3,4],2):\n",
    "    plt.figure(i)\n",
    "    i += 1\n",
    "    nx.draw(x, with_labels=True)"
   ]
  },
  {
   "cell_type": "code",
   "execution_count": null,
   "id": "satisfied-classroom",
   "metadata": {},
   "outputs": [],
   "source": [
    "len(mappings(range(3),range(4)))"
   ]
  },
  {
   "cell_type": "code",
   "execution_count": null,
   "id": "expensive-information",
   "metadata": {},
   "outputs": [],
   "source": [
    "t1 = nx.Graph()\n",
    "t1.add_edges_from([(1,2), (2,3)])\n",
    "t1.nodes[1]['root'] = True\n",
    "\n",
    "t2 = nx.Graph()\n",
    "t2.add_edges_from([('a','b'), ('b','c')])\n",
    "t2.nodes['c']['root'] = False\n",
    "\n",
    "nx.is_isomorphic(t1,t2, node_match=ball_node_match)"
   ]
  },
  {
   "cell_type": "code",
   "execution_count": null,
   "id": "educated-instruction",
   "metadata": {
    "scrolled": true
   },
   "outputs": [],
   "source": [
    "w = random_walk(3)\n",
    "w"
   ]
  },
  {
   "cell_type": "code",
   "execution_count": null,
   "id": "proprietary-compact",
   "metadata": {},
   "outputs": [],
   "source": [
    "walk_in_tree(w, t)"
   ]
  },
  {
   "cell_type": "code",
   "execution_count": null,
   "id": "vanilla-layer",
   "metadata": {},
   "outputs": [],
   "source": [
    "t = UGW([3,4],[0.5,0.5],2)\n",
    "nx.draw(t, with_labels=True)"
   ]
  },
  {
   "cell_type": "code",
   "execution_count": null,
   "id": "legal-figure",
   "metadata": {},
   "outputs": [],
   "source": [
    "t.nodes['311']['root'] = True\n",
    "t.nodes['311']"
   ]
  },
  {
   "cell_type": "code",
   "execution_count": null,
   "id": "better-kitchen",
   "metadata": {},
   "outputs": [],
   "source": [
    "g = ball(t,'311',3)\n",
    "nx.draw(g, with_labels=True)\n",
    "g.nodes['311']"
   ]
  },
  {
   "cell_type": "code",
   "execution_count": null,
   "id": "grateful-birthday",
   "metadata": {},
   "outputs": [],
   "source": [
    "for node in g:\n",
    "    print(node)"
   ]
  },
  {
   "cell_type": "code",
   "execution_count": null,
   "id": "honey-president",
   "metadata": {},
   "outputs": [],
   "source": [
    "a = { 'root' : True}\n",
    "b = { 'root' : True}"
   ]
  },
  {
   "cell_type": "code",
   "execution_count": null,
   "id": "unnecessary-kruger",
   "metadata": {},
   "outputs": [],
   "source": [
    "a == b"
   ]
  },
  {
   "cell_type": "code",
   "execution_count": null,
   "id": "dominican-bikini",
   "metadata": {},
   "outputs": [],
   "source": [
    "c = {}\n",
    "d = {}"
   ]
  },
  {
   "cell_type": "code",
   "execution_count": null,
   "id": "mysterious-state",
   "metadata": {},
   "outputs": [],
   "source": [
    "a == c"
   ]
  },
  {
   "cell_type": "code",
   "execution_count": null,
   "id": "worse-procurement",
   "metadata": {},
   "outputs": [],
   "source": [
    "for a in range(10):\n",
    "    if a % 2 == 0:\n",
    "        print(a)"
   ]
  },
  {
   "cell_type": "code",
   "execution_count": null,
   "id": "subtle-marijuana",
   "metadata": {},
   "outputs": [],
   "source": [
    "a = [1,2]\n",
    "a.append(3)\n",
    "a"
   ]
  },
  {
   "cell_type": "code",
   "execution_count": null,
   "id": "mature-mouse",
   "metadata": {},
   "outputs": [],
   "source": [
    "[1] + [2]"
   ]
  },
  {
   "cell_type": "code",
   "execution_count": null,
   "id": "proved-table",
   "metadata": {},
   "outputs": [],
   "source": [
    "a = np.zeros((2,2))"
   ]
  },
  {
   "cell_type": "code",
   "execution_count": null,
   "id": "automatic-vancouver",
   "metadata": {},
   "outputs": [],
   "source": [
    "a"
   ]
  },
  {
   "cell_type": "code",
   "execution_count": null,
   "id": "japanese-surface",
   "metadata": {},
   "outputs": [],
   "source": [
    "a[1,1] = 1"
   ]
  },
  {
   "cell_type": "code",
   "execution_count": null,
   "id": "artistic-rebel",
   "metadata": {},
   "outputs": [],
   "source": [
    "a"
   ]
  },
  {
   "cell_type": "code",
   "execution_count": null,
   "id": "fifteen-arena",
   "metadata": {},
   "outputs": [],
   "source": [
    "a[1,1] += 1"
   ]
  },
  {
   "cell_type": "code",
   "execution_count": null,
   "id": "threaded-battle",
   "metadata": {},
   "outputs": [],
   "source": [
    "a"
   ]
  },
  {
   "cell_type": "code",
   "execution_count": null,
   "id": "incident-economics",
   "metadata": {},
   "outputs": [],
   "source": [
    "np.sum(a, (0))"
   ]
  },
  {
   "cell_type": "code",
   "execution_count": null,
   "id": "dominant-dominant",
   "metadata": {},
   "outputs": [],
   "source": [
    "a.sum()"
   ]
  },
  {
   "cell_type": "code",
   "execution_count": null,
   "id": "bound-barcelona",
   "metadata": {},
   "outputs": [],
   "source": [
    "raise Exception(\"stuff\")"
   ]
  },
  {
   "cell_type": "code",
   "execution_count": null,
   "id": "short-dealing",
   "metadata": {},
   "outputs": [],
   "source": []
  }
 ],
 "metadata": {
  "kernelspec": {
   "display_name": "Python 3",
   "language": "python",
   "name": "python3"
  },
  "language_info": {
   "codemirror_mode": {
    "name": "ipython",
    "version": 3
   },
   "file_extension": ".py",
   "mimetype": "text/x-python",
   "name": "python",
   "nbconvert_exporter": "python",
   "pygments_lexer": "ipython3",
   "version": "3.9.7"
  }
 },
 "nbformat": 4,
 "nbformat_minor": 5
}
