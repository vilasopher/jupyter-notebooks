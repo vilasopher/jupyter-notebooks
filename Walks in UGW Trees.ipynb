{
 "cells": [
  {
   "cell_type": "code",
   "execution_count": 9,
   "id": "numeric-falls",
   "metadata": {},
   "outputs": [],
   "source": [
    "import numpy as np\n",
    "import networkx as nx"
   ]
  },
  {
   "cell_type": "code",
   "execution_count": 10,
   "id": "wrapped-mainstream",
   "metadata": {
    "scrolled": true
   },
   "outputs": [],
   "source": [
    "def random_walk(n):\n",
    "    return [np.random.randint(0,11) for _ in range(n)]\n",
    "\n",
    "def height_in_3tree(walk):\n",
    "    height = 0\n",
    "    \n",
    "    for step in walk:\n",
    "        if step % 3 == 0 and height > 0:\n",
    "            height -= 1\n",
    "        else:\n",
    "            height += 1\n",
    "    \n",
    "    return height\n",
    "\n",
    "def walk_goes_higher_than(d, walk):\n",
    "    return height_in_3tree(walk) > d"
   ]
  },
  {
   "cell_type": "code",
   "execution_count": 11,
   "id": "configured-television",
   "metadata": {},
   "outputs": [],
   "source": [
    "def UGW(degs, probs, height):\n",
    "    normalization = sum([ d * p for d, p in zip(degs, probs) ])\n",
    "    offspring_probs = [ d * p / normalization for d, p in zip(degs, probs) ]\n",
    "    \n",
    "    T = nx.Graph()\n",
    "    T.add_node('')\n",
    "    \n",
    "    root_deg = np.random.choice(degs, p=probs)\n",
    "    current_level = [ str(i) for i in range(root_deg) ]\n",
    "    T.add_edges_from([ ('', v) for v in current_level ])\n",
    "    \n",
    "    current_height = 1\n",
    "    while current_height <= height:\n",
    "        next_level = []\n",
    "        \n",
    "        for v in current_level:\n",
    "            v_deg = np.random.choice(degs, p=offspring_probs)\n",
    "            new_nodes = [ v + str(i) for i in range(1, v_deg)]\n",
    "            next_level.extend(new_nodes)\n",
    "            T.add_edges_from([ (v, u) for u in new_nodes ])\n",
    "        \n",
    "        current_level = next_level\n",
    "        current_height += 1\n",
    "    \n",
    "    return T"
   ]
  },
  {
   "cell_type": "code",
   "execution_count": 34,
   "id": "disabled-season",
   "metadata": {},
   "outputs": [],
   "source": [
    "def walk_in_tree(walk, tree):\n",
    "    current_node = ''\n",
    "    \n",
    "    for step in walk:\n",
    "        reduced_step = step % tree.degree[current_node]\n",
    "            \n",
    "        if reduced_step == 0 and current_node != '':\n",
    "            next_node = current_node[:-1]\n",
    "        else:\n",
    "            next_node = current_node + str(reduced_step)\n",
    "        \n",
    "        current_node = next_node\n",
    "    \n",
    "    return current_node"
   ]
  },
  {
   "cell_type": "code",
   "execution_count": 29,
   "id": "multiple-favor",
   "metadata": {},
   "outputs": [
    {
     "data": {
      "image/png": "[encoded data removed]",
      "text/plain": [
       "<Figure size 432x288 with 1 Axes>"
      ]
     },
     "metadata": {},
     "output_type": "display_data"
    }
   ],
   "source": [
    "t = UGW([3,4],[0.5,0.5],2)\n",
    "nx.draw(t, with_labels=True)"
   ]
  },
  {
   "cell_type": "code",
   "execution_count": 32,
   "id": "educated-instruction",
   "metadata": {},
   "outputs": [
    {
     "data": {
      "text/plain": [
       "[9, 4, 10]"
      ]
     },
     "execution_count": 32,
     "metadata": {},
     "output_type": "execute_result"
    }
   ],
   "source": [
    "w = random_walk(3)\n",
    "w"
   ]
  },
  {
   "cell_type": "code",
   "execution_count": 35,
   "id": "proprietary-compact",
   "metadata": {},
   "outputs": [
    {
     "data": {
      "text/plain": [
       "'011'"
      ]
     },
     "execution_count": 35,
     "metadata": {},
     "output_type": "execute_result"
    }
   ],
   "source": [
    "walk_in_tree(w, t)"
   ]
  },
  {
   "cell_type": "code",
   "execution_count": null,
   "id": "vanilla-layer",
   "metadata": {},
   "outputs": [],
   "source": []
  }
 ],
 "metadata": {
  "kernelspec": {
   "display_name": "Python 3",
   "language": "python",
   "name": "python3"
  },
  "language_info": {
   "codemirror_mode": {
    "name": "ipython",
    "version": 3
   },
   "file_extension": ".py",
   "mimetype": "text/x-python",
   "name": "python",
   "nbconvert_exporter": "python",
   "pygments_lexer": "ipython3",
   "version": "3.9.7"
  }
 },
 "nbformat": 4,
 "nbformat_minor": 5
}
