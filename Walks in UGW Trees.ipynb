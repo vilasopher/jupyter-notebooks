{
 "cells": [
  {
   "cell_type": "code",
   "execution_count": 1,
   "id": "numeric-falls",
   "metadata": {},
   "outputs": [],
   "source": [
    "import numpy as np\n",
    "import networkx as nx\n",
    "import matplotlib.pyplot as plt\n",
    "import math\n",
    "from scipy.stats import chi2_contingency"
   ]
  },
  {
   "cell_type": "code",
   "execution_count": 2,
   "id": "ignored-airplane",
   "metadata": {},
   "outputs": [],
   "source": [
    "DEGREES = [3, 4]\n",
    "PROBABILITIES = [0.5, 0.5]\n",
    "\n",
    "MIN_DEG = min(DEGREES)\n",
    "MAX_DEG = max(DEGREES)\n",
    "LCM = math.lcm(*DEGREES)"
   ]
  },
  {
   "cell_type": "code",
   "execution_count": 3,
   "id": "wrapped-mainstream",
   "metadata": {
    "scrolled": true
   },
   "outputs": [],
   "source": [
    "def random_walk(n):\n",
    "    return [np.random.randint(0,LCM-1) for _ in range(n)]\n",
    "\n",
    "def height_in_constant_degree_tree(d, walk):\n",
    "    height = 0\n",
    "    \n",
    "    for step in walk:\n",
    "        if int(step * d / LCM) == 0 and height > 0:\n",
    "            height -= 1\n",
    "        else:\n",
    "            height += 1\n",
    "    \n",
    "    return height\n",
    "\n",
    "def min_height(walk):\n",
    "    return height_in_constant_degree_tree(MIN_DEG, walk)\n",
    "\n",
    "def max_height(walk):\n",
    "    return height_in_constant_degree_tree(MAX_DEG, walk)\n",
    "\n",
    "def walk_goes_higher_than(d, walk):\n",
    "    return min_height(walk) > d"
   ]
  },
  {
   "cell_type": "code",
   "execution_count": 4,
   "id": "configured-television",
   "metadata": {},
   "outputs": [],
   "source": [
    "def UGW(height, degs=DEGREES, probs=PROBABILITIES):\n",
    "    normalization = sum([ d * p for d, p in zip(degs, probs) ])\n",
    "    offspring_probs = [ d * p / normalization for d, p in zip(degs, probs) ]\n",
    "    \n",
    "    T = nx.Graph()\n",
    "    T.add_node('')\n",
    "    \n",
    "    root_deg = np.random.choice(degs, p=probs)\n",
    "    current_level = [ str(i) for i in range(root_deg) ]\n",
    "    T.add_edges_from([ ('', v) for v in current_level ])\n",
    "    \n",
    "    current_height = 1\n",
    "    while current_height <= height:\n",
    "        next_level = []\n",
    "        \n",
    "        for v in current_level:\n",
    "            v_deg = np.random.choice(degs, p=offspring_probs)\n",
    "            new_nodes = [ v + str(i) for i in range(1, v_deg)]\n",
    "            next_level.extend(new_nodes)\n",
    "            T.add_edges_from([ (v, u) for u in new_nodes ])\n",
    "        \n",
    "        current_level = next_level\n",
    "        current_height += 1\n",
    "    \n",
    "    return T"
   ]
  },
  {
   "cell_type": "code",
   "execution_count": 5,
   "id": "disabled-season",
   "metadata": {},
   "outputs": [],
   "source": [
    "def walk_in_tree(walk, tree):\n",
    "    current_node = ''\n",
    "    \n",
    "    for step in walk:\n",
    "        reduced_step = int(step * tree.degree[current_node] / LCM)\n",
    "            \n",
    "        if reduced_step == 0 and current_node != '':\n",
    "            next_node = current_node[:-1]\n",
    "        else:\n",
    "            next_node = current_node + str(reduced_step)\n",
    "        \n",
    "        current_node = next_node\n",
    "    \n",
    "    return current_node"
   ]
  },
  {
   "cell_type": "code",
   "execution_count": null,
   "id": "golden-lender",
   "metadata": {},
   "outputs": [],
   "source": [
    "def UGW_along_walk(height, walk, ball_radius, degs=DEGREES, probs=PROBABILITIES):\n",
    "    normalization = sum([ d * p for d, p in zip(degs, probs) ])\n",
    "    offspring_probs = [ d * p / normalization for d, p in zip(degs, probs) ]\n",
    "    \n",
    "    T = nx.Graph()\n",
    "    T.add_node('')\n",
    "    \n",
    "    #TODO: write this function so that things can go faster\n",
    "    \n",
    "    pass"
   ]
  },
  {
   "cell_type": "code",
   "execution_count": 6,
   "id": "multiple-favor",
   "metadata": {},
   "outputs": [],
   "source": [
    "def ball(graph, root, radius):\n",
    "    b = nx.Graph()\n",
    "    b.add_edges_from(nx.bfs_edges(graph, root, depth_limit=radius))\n",
    "    b.nodes[root]['root'] = True\n",
    "    return b\n",
    "\n",
    "def ball_node_match(n1, n2):\n",
    "    return n1 == n2"
   ]
  },
  {
   "cell_type": "code",
   "execution_count": 7,
   "id": "ahead-window",
   "metadata": {},
   "outputs": [],
   "source": [
    "def mappings(xs, ys):\n",
    "    if len(xs) == 0:\n",
    "        return [[]]\n",
    "    else:\n",
    "        x, *zs = xs\n",
    "        \n",
    "        smaller_mappings = mappings(zs, ys)\n",
    "        return [\n",
    "            [(x,y)] + sm\n",
    "            for y in ys\n",
    "            for sm in smaller_mappings\n",
    "        ]"
   ]
  },
  {
   "cell_type": "code",
   "execution_count": 8,
   "id": "rocky-murder",
   "metadata": {},
   "outputs": [],
   "source": [
    "def possible_balls(radius, degs=DEGREES):\n",
    "    if radius == 1:\n",
    "        balls = []\n",
    "        \n",
    "        for d in degs:\n",
    "            b = nx.Graph()\n",
    "            b.add_edges_from([('', str(i)) for i in range(d)])\n",
    "            b.nodes['']['root'] = True\n",
    "            balls.append(b)\n",
    "            \n",
    "        return balls\n",
    "    \n",
    "    else:\n",
    "        smaller_balls = possible_balls(radius-1, degs)\n",
    "        balls = []\n",
    "        \n",
    "        for sb in smaller_balls:\n",
    "            leaves = [node for node in sb if len(node) == radius-1]\n",
    "            \n",
    "            for m in mappings(leaves, degs):\n",
    "                b = sb.copy()\n",
    "                \n",
    "                for l, d in m:\n",
    "                    b.add_edges_from([(l, l+str(i)) for i in range(1,d)])\n",
    "                \n",
    "                if all([not nx.is_isomorphic(b, x, node_match=ball_node_match) for x in balls]):\n",
    "                    balls.append(b)\n",
    "\n",
    "        return balls"
   ]
  },
  {
   "cell_type": "code",
   "execution_count": 26,
   "id": "latest-ordinance",
   "metadata": {},
   "outputs": [],
   "source": [
    "num_samples = 10\n",
    "num_subsamples = 5000\n",
    "ball_radius = 2\n",
    "walk_length = 7\n",
    "\n",
    "all_balls = possible_balls(ball_radius)\n",
    "num_balls = len(all_balls)\n",
    "\n",
    "samples = []\n",
    "\n",
    "for _ in range(num_samples):\n",
    "    w = random_walk(walk_length)\n",
    "    while not walk_goes_higher_than(2 * ball_radius, w):\n",
    "        w = random_walk(walk_length)\n",
    "        \n",
    "    ugw_height = max_height(w) + ball_radius\n",
    "        \n",
    "    statistic = np.zeros((num_balls, num_balls))\n",
    "        \n",
    "    for __ in range(num_subsamples):\n",
    "        t = UGW(ugw_height)\n",
    "        \n",
    "        start = ''\n",
    "        end = walk_in_tree(w, t)\n",
    "        \n",
    "        bstart = ball(t, start, ball_radius)\n",
    "        bend = ball(t, end, ball_radius)\n",
    "        \n",
    "        for i, b1 in enumerate(all_balls):\n",
    "            if nx.is_isomorphic(bstart, b1, node_match = ball_node_match):\n",
    "                for j, b2 in enumerate(all_balls):\n",
    "                    if nx.is_isomorphic(bend, b2, node_match = ball_node_match):\n",
    "                        statistic[i,j] += 1\n",
    "                        break\n",
    "                break\n",
    "        \n",
    "    if int(statistic.sum()) != num_subsamples:\n",
    "        raise Exception(\"at least one of the sampled balls did not match!\")\n",
    "    \n",
    "    samples.append(statistic)"
   ]
  },
  {
   "cell_type": "code",
   "execution_count": 27,
   "id": "thirty-musical",
   "metadata": {},
   "outputs": [
    {
     "name": "stdout",
     "output_type": "stream",
     "text": [
      "0.995022812072871\n",
      "0.3311301451866121\n",
      "0.45473650067266275\n",
      "0.35580285806546685\n",
      "0.9788205263585891\n",
      "0.7653756157791506\n",
      "0.3013666955723451\n",
      "0.895802512217381\n",
      "0.28416736755159483\n",
      "0.5651779664841386\n"
     ]
    }
   ],
   "source": [
    "for sample in samples:\n",
    "    try:\n",
    "        stat, p, dof, expected = chi2_contingency(sample)\n",
    "        print(p)\n",
    "    except:\n",
    "        print('something went wrong')"
   ]
  },
  {
   "cell_type": "code",
   "execution_count": 28,
   "id": "narrative-interstate",
   "metadata": {},
   "outputs": [
    {
     "data": {
      "image/png": "[encoded data removed]",
      "text/plain": [
       "<Figure size 432x288 with 1 Axes>"
      ]
     },
     "metadata": {
      "needs_background": "light"
     },
     "output_type": "display_data"
    },
    {
     "data": {
      "image/png": "[encoded data removed]",
      "text/plain": [
       "<Figure size 432x288 with 1 Axes>"
      ]
     },
     "metadata": {
      "needs_background": "light"
     },
     "output_type": "display_data"
    },
    {
     "data": {
      "image/png": "[encoded data removed]",
      "text/plain": [
       "<Figure size 432x288 with 1 Axes>"
      ]
     },
     "metadata": {
      "needs_background": "light"
     },
     "output_type": "display_data"
    },
    {
     "data": {
      "image/png": "[encoded data removed]",
      "text/plain": [
       "<Figure size 432x288 with 1 Axes>"
      ]
     },
     "metadata": {
      "needs_background": "light"
     },
     "output_type": "display_data"
    },
    {
     "data": {
      "image/png": "[encoded data removed]",
      "text/plain": [
       "<Figure size 432x288 with 1 Axes>"
      ]
     },
     "metadata": {
      "needs_background": "light"
     },
     "output_type": "display_data"
    },
    {
     "data": {
      "image/png": "[encoded data removed]",
      "text/plain": [
       "<Figure size 432x288 with 1 Axes>"
      ]
     },
     "metadata": {
      "needs_background": "light"
     },
     "output_type": "display_data"
    },
    {
     "data": {
      "image/png": "[encoded data removed]",
      "text/plain": [
       "<Figure size 432x288 with 1 Axes>"
      ]
     },
     "metadata": {
      "needs_background": "light"
     },
     "output_type": "display_data"
    },
    {
     "data": {
      "image/png": "[encoded data removed]",
      "text/plain": [
       "<Figure size 432x288 with 1 Axes>"
      ]
     },
     "metadata": {
      "needs_background": "light"
     },
     "output_type": "display_data"
    },
    {
     "data": {
      "image/png": "[encoded data removed]",
      "text/plain": [
       "<Figure size 432x288 with 1 Axes>"
      ]
     },
     "metadata": {
      "needs_background": "light"
     },
     "output_type": "display_data"
    },
    {
     "data": {
      "image/png": "[encoded data removed]",
      "text/plain": [
       "<Figure size 432x288 with 1 Axes>"
      ]
     },
     "metadata": {
      "needs_background": "light"
     },
     "output_type": "display_data"
    }
   ],
   "source": [
    "i=0\n",
    "for sample in samples:\n",
    "    plt.figure(i)\n",
    "    i += 1\n",
    "    plt.imshow(sample, cmap='hot')"
   ]
  }
 ],
 "metadata": {
  "kernelspec": {
   "display_name": "Python 3",
   "language": "python",
   "name": "python3"
  },
  "language_info": {
   "codemirror_mode": {
    "name": "ipython",
    "version": 3
   },
   "file_extension": ".py",
   "mimetype": "text/x-python",
   "name": "python",
   "nbconvert_exporter": "python",
   "pygments_lexer": "ipython3",
   "version": "3.9.7"
  }
 },
 "nbformat": 4,
 "nbformat_minor": 5
}
